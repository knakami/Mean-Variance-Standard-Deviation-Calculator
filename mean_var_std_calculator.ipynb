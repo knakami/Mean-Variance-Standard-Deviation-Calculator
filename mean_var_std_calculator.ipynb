{
 "cells": [
  {
   "cell_type": "code",
   "execution_count": 1,
   "id": "87b10fd5-5f1b-4457-a2f7-934333cb164d",
   "metadata": {},
   "outputs": [],
   "source": [
    "import numpy as np"
   ]
  },
  {
   "cell_type": "code",
   "execution_count": 22,
   "id": "462f1dd4-98a3-4207-84bb-4e9626c74f41",
   "metadata": {},
   "outputs": [
    {
     "name": "stdout",
     "output_type": "stream",
     "text": [
      "{'mean': [[3.0, 4.0, 5.0], [1.0, 4.0, 7.0], 4.0], 'variance': [[6.0, 6.0, 6.0], [0.6666666666666666, 0.6666666666666666, 0.6666666666666666], 6.666666666666667], 'standard deviation': [[2.449489742783178, 2.449489742783178, 2.449489742783178], [0.816496580927726, 0.816496580927726, 0.816496580927726], 2.581988897471611], 'max': [[6, 7, 8], [2, 5, 8], 8], 'min': [[0, 1, 2], [0, 3, 6], 0], 'sum': [[9, 12, 15], [3, 12, 21], 36]}\n"
     ]
    }
   ],
   "source": [
    "import numpy as np\n",
    "\n",
    "def calculate(numbers):\n",
    "    if len(numbers) != 9:\n",
    "        raise ValueError(\"List must contain nine numbers.\")\n",
    "    \n",
    "    arr = np.array(numbers).reshape(3, 3)\n",
    "    \n",
    "    calculations = {\n",
    "        \"mean\": [arr.mean(axis=0).tolist(), arr.mean(axis=1).tolist(), float(arr.mean())],\n",
    "        \"variance\": [arr.var(axis=0).tolist(), arr.var(axis=1).tolist(), float(arr.var())],\n",
    "        \"standard deviation\": [arr.std(axis=0).tolist(), arr.std(axis=1).tolist(), float(arr.std())],\n",
    "        \"max\": [arr.max(axis=0).tolist(), arr.max(axis=1).tolist(), int(arr.max())],\n",
    "        \"min\": [arr.min(axis=0).tolist(), arr.min(axis=1).tolist(), int(arr.min())],\n",
    "        \"sum\": [arr.sum(axis=0).tolist(), arr.sum(axis=1).tolist(), int(arr.sum())]\n",
    "    }\n",
    "    \n",
    "    return calculations\n",
    "\n",
    "result = calculate([0, 1, 2, 3, 4, 5, 6, 7, 8])\n",
    "print(result)\n"
   ]
  },
  {
   "cell_type": "code",
   "execution_count": null,
   "id": "aa0a6600-aa60-4c03-85ec-f178f36914d6",
   "metadata": {},
   "outputs": [],
   "source": []
  }
 ],
 "metadata": {
  "kernelspec": {
   "display_name": "Python 3 (ipykernel)",
   "language": "python",
   "name": "python3"
  },
  "language_info": {
   "codemirror_mode": {
    "name": "ipython",
    "version": 3
   },
   "file_extension": ".py",
   "mimetype": "text/x-python",
   "name": "python",
   "nbconvert_exporter": "python",
   "pygments_lexer": "ipython3",
   "version": "3.8.6"
  }
 },
 "nbformat": 4,
 "nbformat_minor": 5
}
